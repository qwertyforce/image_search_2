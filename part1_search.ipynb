{
 "cells": [
  {
   "cell_type": "code",
   "execution_count": null,
   "metadata": {},
   "outputs": [],
   "source": [
    "import numpy as np\n",
    "import pickle\n",
    "dim = 512\n",
    "import faiss\n",
    "\n",
    "quantizer = faiss.IndexFlat(dim, faiss.METRIC_L2)\n",
    "# gpu_quantizer = faiss.index_cpu_to_all_gpus(quantizer)\n",
    "index_id_map = faiss.IndexIDMap2(quantizer)\n",
    "from sklearn.decomposition import PCA\n",
    "from tqdm import tqdm\n",
    "pca=None\n",
    "features=[]\n",
    "ids = []\n",
    "def init_index():\n",
    "    global pca, features, ids\n",
    "    __x=[1,2,3,4,5,6,7,8,9,10]\n",
    "    for num in tqdm(__x):\n",
    "      with open(f'./drive/MyDrive/resnet18_resize224_color_MAC{num*100}k.pkl', 'rb') as f:\n",
    "            # print(1)\n",
    "            ff = pickle.load(f)\n",
    "            for x in ff:\n",
    "                features.append(x[\"features\"])\n",
    "                ids.append(x['image_id'])\n",
    "\n",
    "    ids=np.int64(ids)\n",
    "    print(len(np.unique(ids)))\n",
    "    features=np.array(features).squeeze()\n",
    "    for i in range(len(features)):\n",
    "        features[i]/=np.linalg.norm(features[i])\n",
    "\n",
    "    # pca = PCA(n_components=dim,whiten=True)\n",
    "    # pca.fit(features)\n",
    "    # features=pca.transform(features)\n",
    "\n",
    "    # for i in range(len(features)):\n",
    "    #     features[i]/=np.linalg.norm(features[i])\n",
    "\n",
    "    # features=np.ascontiguousarray(features)\n",
    "        \n",
    "    if(len(features)!=0):\n",
    "        index_id_map.add_with_ids(features,ids)\n",
    "    print(\"Index is ready\")\n",
    "init_index() \n"
   ]
  }
 ],
 "metadata": {
  "language_info": {
   "name": "python"
  },
  "orig_nbformat": 4
 },
 "nbformat": 4,
 "nbformat_minor": 2
}
